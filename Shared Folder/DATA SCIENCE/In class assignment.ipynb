{
 "cells": [
  {
   "cell_type": "code",
   "execution_count": 87,
   "id": "9efcb0d9-f690-4256-9f60-39aa90eae765",
   "metadata": {},
   "outputs": [],
   "source": [
    "#KABUNGA AKRAM JOSHUA M25B38/004, B38592\n",
    "import pandas as pd\n",
    "from pandas import Series, DataFrame"
   ]
  },
  {
   "cell_type": "code",
   "execution_count": 88,
   "id": "d276a547-6a73-45ae-883b-5d05c1117609",
   "metadata": {},
   "outputs": [
    {
     "name": "stdout",
     "output_type": "stream",
     "text": [
      "a       Cat\n",
      "b       Dog\n",
      "c      Fish\n",
      "d    Turtle\n",
      "dtype: object\n",
      "        0\n",
      "a     Cat\n",
      "b     Dog\n",
      "c    Fish\n",
      "d  Turtle\n"
     ]
    }
   ],
   "source": [
    "##1.Series are a one dimensionsal array while a dataFrame is a two dimensional labeled table. \n",
    "## A serie is a simple column while a dataFrame is two or more columns combined for example:\n",
    "pets =Series([ \"Cat\", \"Dog\", \"Fish\", \"Turtle\"],index =[\"a\", \"b\", \"c\", \"d\"])\n",
    "print(pets)\n",
    "df1= DataFrame(pets)\n",
    "print(df1)"
   ]
  },
  {
   "cell_type": "code",
   "execution_count": 89,
   "id": "5406621a-1816-4672-acc0-c2ce32ab6dea",
   "metadata": {},
   "outputs": [
    {
     "name": "stdout",
     "output_type": "stream",
     "text": [
      "     Name  Age\n",
      "x  Hailey   21\n",
      "y  Billie   23\n",
      "z  Ashely   19\n",
      "21\n",
      "Hailey\n"
     ]
    }
   ],
   "source": [
    "##2. .loc[] and .iloc[]: both are used for refernecing but the .loc[] function uses column names and row names \n",
    "##     while the .iloc[] function uses row and columns numbers for example;\n",
    "data = { \"Name\": [\"Hailey\", \"Billie\", \"Ashely\"], \"Age\": [21, 23, 19]}\n",
    "df = pd. DataFrame(data, index = [\"x\", \"y\", \"z\"])\n",
    "print(df)\n",
    "print(df.loc[\"x\", \"Age\"])\n",
    "print(df.iloc[0,0])"
   ]
  },
  {
   "cell_type": "code",
   "execution_count": 90,
   "id": "d167713a-193b-449b-a61d-5ad561357b1b",
   "metadata": {},
   "outputs": [],
   "source": [
    "## 3. The NumPy array is faster because it has optimized C backend than the the python list and the pyhton list has a higher storage usage because it stores references\n",
    "## while the NumPy array uses lower storage usage becasue it is more compact"
   ]
  },
  {
   "cell_type": "code",
   "execution_count": 140,
   "id": "fd32007c-9c81-45c6-aa80-e255242dc379",
   "metadata": {},
   "outputs": [
    {
     "name": "stdout",
     "output_type": "stream",
     "text": [
      "    Cars   Year\n",
      "0  False  False\n",
      "1  False   True\n",
      "2  False  False\n",
      "   Cars   Year\n",
      "0  True   True\n",
      "1  True  False\n",
      "2  True   True\n",
      "     Cars    Year\n",
      "0    Benz  2003.0\n",
      "1  Toyota  2003.0\n",
      "2   Prius  1998.0\n"
     ]
    }
   ],
   "source": [
    "##4. the isnull() function is used to checke for missing values in a dataset and returns a boolean function; true for when a value is missing and false when no value is missing.\n",
    "## notnull() checks for non-missing values and also returns a boolean value: true when no value is missing and false when a value is missing.\n",
    "## fillna()this is used to fill in the missing values with a value that has been specified by entering it into the parentheses.\n",
    "##EXAMPLE\n",
    "import numpy as np\n",
    "df = pd.DataFrame({ \"Cars\" : [\"Benz\", \"Toyota\", \"Prius\"], \"Year\":[ 2003, None, 1998]})\n",
    "print(df.isnull())\n",
    "print(df.notnull())\n",
    "print(df.fillna(2003).round(0))"
   ]
  },
  {
   "cell_type": "code",
   "execution_count": null,
   "id": "3c9bf522-e4df-4800-8de0-d0defbeb90b1",
   "metadata": {},
   "outputs": [],
   "source": []
  },
  {
   "cell_type": "code",
   "execution_count": 92,
   "id": "8810d13e-d2d6-477b-9821-7e1dc526fcde",
   "metadata": {},
   "outputs": [],
   "source": [
    "##SECTION B"
   ]
  },
  {
   "cell_type": "code",
   "execution_count": 147,
   "id": "cc6f4140-96a8-40aa-8210-7a059f32bf85",
   "metadata": {},
   "outputs": [
    {
     "name": "stdout",
     "output_type": "stream",
     "text": [
      "1\n",
      "A       1\n",
      "b       9\n",
      "c      16\n",
      "d      25\n",
      "e      49\n",
      "f    1089\n",
      "g       4\n",
      "h    6400\n",
      "i    2025\n",
      "j     576\n",
      "dtype: int64\n",
      "80\n",
      "h    80\n",
      "i    45\n",
      "j    24\n",
      "dtype: int64\n",
      "h    80\n",
      "dtype: int64\n"
     ]
    }
   ],
   "source": [
    "##number 1\n",
    "\n",
    "list1 =[1,3,4,5,7,33,2,80,45,24]\n",
    "custom_index =[\"A\", \"b\", \"c\", \"d\", \"e\", \"f\", \"g\", \"h\", \"i\", \"j\"]\n",
    "list = Series(list1, index=custom_index)\n",
    "max = list.max()\n",
    "low = list.min()\n",
    "print(low)\n",
    "def square(x):\n",
    "    return x **2\n",
    "squared = list.apply(square)\n",
    "print(squared)\n",
    "print(max)\n",
    "print(list[-3:])\n",
    "print(list[list>50])\n",
    "list2 = list.rename(\"Scores\")"
   ]
  },
  {
   "cell_type": "code",
   "execution_count": 133,
   "id": "5beb4aaa-2172-4d03-9754-7cf71b9b608e",
   "metadata": {},
   "outputs": [
    {
     "name": "stdout",
     "output_type": "stream",
     "text": [
      "        Name  Age Gender  Score\n",
      "Anna    Anna   22      F   89.0\n",
      "Ben      Ben   25      M   94.0\n",
      "Cathy  Cathy   23      F   75.0\n",
      "Derek  Derek   24      M    NaN\n",
      "Eva      Eva   21      F   83.0\n",
      "      Name  Age Gender  Score\n",
      "Anna  Anna   22      F   89.0\n",
      "Ben    Ben   25      M   94.0\n",
      "Eva    Eva   21      F   83.0\n",
      "        Name  Age  Score\n",
      "Anna    Anna   22   89.0\n",
      "Ben      Ben   25   94.0\n",
      "Cathy  Cathy   23   75.0\n",
      "Derek  Derek   24    NaN\n",
      "Eva      Eva   21   83.0\n",
      "         Age  Score\n",
      "count   5.00   4.00\n",
      "mean   23.00  85.25\n",
      "std     1.58   8.18\n",
      "min    21.00  75.00\n",
      "25%    22.00  81.00\n",
      "50%    23.00  86.00\n",
      "75%    24.00  90.25\n",
      "max    25.00  94.00\n",
      "Anna     89.00\n",
      "Ben      94.00\n",
      "Cathy    75.00\n",
      "Derek    85.25\n",
      "Eva      83.00\n",
      "Name: Score, dtype: float64\n"
     ]
    }
   ],
   "source": [
    "##number 2\n",
    "data = {\n",
    "  \"Name\": [\"Anna\", \"Ben\", \"Cathy\", \"Derek\", \"Eva\"],\n",
    " \"Age\": [22, 25, 23, 24, 21],\n",
    " \"Gender\": [\"F\", \"M\", \"F\", \"M\", \"F\"],\n",
    " \"Score\": [89, 94, 75, None, 83]}\n",
    "df2= pd.DataFrame(data, index = [\"Anna\", \"Ben\", \"Cathy\", \"Derek\", \"Eva\"])\n",
    "print(df2)\n",
    "print(df2[df2[\"Score\"]>80])\n",
    "G = df2.drop(\"Gender\", axis = 1)\n",
    "print(G)\n",
    "print(df2.describe().round(2))\n",
    "print(df2[\"Score\"].fillna(df2[\"Score\"].mean()))"
   ]
  },
  {
   "cell_type": "code",
   "execution_count": 148,
   "id": "d07cf07a-e5f5-4508-b40b-4d7428d43929",
   "metadata": {},
   "outputs": [
    {
     "name": "stdout",
     "output_type": "stream",
     "text": [
      "    C1  C2  C3  C4\n",
      "R1   1   2   3   4\n",
      "R2   6   7  10  22\n",
      "R3  33  56  32  16\n",
      "    C1  C2  C3  C4\n",
      "R1   1   2   3   4\n",
      "R2   6   7  10  22\n",
      "R3  33  56  32  16\n",
      "[[ 1  2  3  4]\n",
      " [ 6  7 10 22]\n",
      " [33 56 32 16]]\n",
      "                          C1                        C2  \\\n",
      "R1  <built-in function sqrt>  <built-in function sqrt>   \n",
      "R2  <built-in function sqrt>  <built-in function sqrt>   \n",
      "R3  <built-in function sqrt>  <built-in function sqrt>   \n",
      "\n",
      "                          C3                        C4  \n",
      "R1  <built-in function sqrt>  <built-in function sqrt>  \n",
      "R2  <built-in function sqrt>  <built-in function sqrt>  \n",
      "R3  <built-in function sqrt>  <built-in function sqrt>  \n",
      "    C1  C2  C3  C4\n",
      "R3  33  56  32  16\n",
      "R2   6   7  10  22\n",
      "R1   1   2   3   4\n"
     ]
    },
    {
     "name": "stderr",
     "output_type": "stream",
     "text": [
      "C:\\Users\\user\\AppData\\Local\\Temp\\ipykernel_15368\\144604770.py:9: FutureWarning: DataFrame.applymap has been deprecated. Use DataFrame.map instead.\n",
      "  frame4 = list3.applymap(lambda x: sqrt)\n"
     ]
    }
   ],
   "source": [
    "##number 3\n",
    "\n",
    "list2 = ([1,2,3,4], [6,7,10,22], [33,56,32,16])\n",
    "arr1 = np.array(list2)\n",
    "list3 = DataFrame(arr1, columns = [\"C1\",\"C2\",\"C3\",\"C4\"], index =[\"R1\", \"R2\", \"R3\"])\n",
    "Replace = list3[list3>0].fillna(0)\n",
    "print(Replace)\n",
    "print(list3)\n",
    "print(arr1)\n",
    "from math import sqrt\n",
    "frame4 = list3.applymap(lambda x: sqrt)\n",
    "print(frame4)\n",
    "sorted = list3.sort_values(by=\"C2\", ascending = False)\n",
    "print(sorted)"
   ]
  },
  {
   "cell_type": "code",
   "execution_count": 128,
   "id": "b0b0778b-c6a2-4868-90af-16d5b0e610c7",
   "metadata": {},
   "outputs": [
    {
     "name": "stdout",
     "output_type": "stream",
     "text": [
      "[[ 5 10 15]\n",
      " [20 25 30]]\n",
      "[25 30]\n",
      "    Col1  Col2  Col3\n",
      "R1     5    10    15\n",
      "R2    20    25    30\n",
      "R5    35    40    45\n",
      "Col1    35\n",
      "Col2    40\n",
      "Col3    45\n",
      "Name: R5, dtype: int32\n"
     ]
    }
   ],
   "source": [
    "##number 4\n",
    "\n",
    "arr2d = np.array([[5, 10, 15], [20, 25, 30], [35, 40, 45]])\n",
    "print(arr2d[:-1])\n",
    "print(arr2d[1, -2:])\n",
    "row_labels =[\"R1\", \"R2\", \"R5\"]\n",
    "col_labels =[ \"Col1\", \"Col2\", \"Col3\"]\n",
    "df4 = pd. DataFrame(arr2d, index =row_labels, columns = col_labels)\n",
    "print(df4)\n",
    "print(df4.loc[\"R5\"])\n",
    "list3 = list3.where(list3<= 30, 100)"
   ]
  },
  {
   "cell_type": "code",
   "execution_count": 163,
   "id": "60a64e3c-dc1a-4440-839a-28c92ceeca9f",
   "metadata": {},
   "outputs": [
    {
     "name": "stdout",
     "output_type": "stream",
     "text": [
      "         Math  Physics  Chemistry  Range\n",
      "Alice      78       84         90     12\n",
      "Bob        89       76         85     13\n",
      "Charlie    92       88         91      4\n",
      "Alice      12\n",
      "Bob        13\n",
      "Charlie     4\n",
      "Name: Range, dtype: int64\n"
     ]
    }
   ],
   "source": [
    "## Number 6\n",
    "\n",
    "df = pd.DataFrame({\n",
    " 'Math': [78, 89, 92], 'Physics': [84, 76, 88],'Chemistry': [90, 85, 91]}, \n",
    "index=['Alice', 'Bob', 'Charlie'])\n",
    "                  ## definig the function\n",
    "def max_minus_min(row):\n",
    "    return row.max() - row.min()\n",
    "## application\n",
    "df[\"Range\"] = df.apply(max_minus_min, axis = 1)\n",
    "print(df)\n",
    "print(df[\"Range\"])"
   ]
  },
  {
   "cell_type": "code",
   "execution_count": 164,
   "id": "07c01da5-c699-45db-a95b-818c53682815",
   "metadata": {},
   "outputs": [
    {
     "name": "stdout",
     "output_type": "stream",
     "text": [
      "         Math  Physics  Chemistry  Range\n",
      "Alice    6084     7056       8100    144\n",
      "Bob      7921     5776       7225    169\n",
      "Charlie  8464     7744       8281     16\n",
      "Math         86.33\n",
      "Physics      82.67\n",
      "Chemistry    88.67\n",
      "Range         9.67\n",
      "dtype: float64\n",
      "88.67\n"
     ]
    },
    {
     "name": "stderr",
     "output_type": "stream",
     "text": [
      "C:\\Users\\user\\AppData\\Local\\Temp\\ipykernel_15368\\2031663700.py:5: FutureWarning: DataFrame.applymap has been deprecated. Use DataFrame.map instead.\n",
      "  squared = df.applymap(square)\n"
     ]
    }
   ],
   "source": [
    "##number 6\n",
    "\n",
    "def square(x):\n",
    "    return x**2\n",
    "squared = df.applymap(square)\n",
    "print(squared)\n",
    "mean = df.mean(axis = 0).round(2)\n",
    "print(mean)\n",
    "print(mean.max())"
   ]
  },
  {
   "cell_type": "code",
   "execution_count": 129,
   "id": "fb644a87-1366-491d-8a21-f9dc537bc31a",
   "metadata": {},
   "outputs": [],
   "source": [
    "##Number 5"
   ]
  },
  {
   "cell_type": "code",
   "execution_count": 162,
   "id": "8a73c700-2628-4bc1-a662-9e19f2acfc9e",
   "metadata": {},
   "outputs": [
    {
     "name": "stdout",
     "output_type": "stream",
     "text": [
      "     A    B    C\n",
      "0  1.0  NaN  1.0\n",
      "1  NaN  2.0  2.0\n",
      "2  3.0  3.0  NaN\n",
      "3  NaN  4.0  4.0\n",
      "     A    B    C\n",
      "0  1.0  NaN  1.0\n",
      "1  NaN  2.0  2.0\n",
      "2  3.0  3.0  NaN\n",
      "3  NaN  4.0  4.0\n",
      "     A    B    C\n",
      "0  1.0  0.0  1.0\n",
      "1  0.0  2.0  2.0\n",
      "2  3.0  3.0  0.0\n",
      "3  0.0  4.0  4.0\n",
      "     A    B     C\n",
      "0  1.0  3.0  1.00\n",
      "1  2.0  2.0  2.00\n",
      "2  3.0  3.0  2.33\n",
      "3  2.0  4.0  4.00\n",
      "       A      B      C\n",
      "0   True  False   True\n",
      "1  False   True   True\n",
      "2   True   True  False\n",
      "3  False   True   True\n"
     ]
    }
   ],
   "source": [
    " df = pd.DataFrame({'A': [1, np.nan, 3, np.nan],\n",
    " 'B': [np.nan, 2, 3, 4],\n",
    " 'C': [1, 2, np.nan, 4] })\n",
    "print(df)\n",
    "clear = df.dropna(axis = 1, how=\"all\")\n",
    "print(clear)\n",
    "print(df.fillna(0))\n",
    "print(df.fillna(df.mean(numeric_only = True).round(2)))\n",
    "## We use the .notnull() to find out the values that are not null\n",
    "no_null = (df.notnull())\n",
    "print(no_null)"
   ]
  },
  {
   "cell_type": "code",
   "execution_count": null,
   "id": "f314c0e6-8972-4a49-a30d-45e7dbd79dd5",
   "metadata": {},
   "outputs": [],
   "source": [
    "##KABUNGA AKRAM JOSHUA M25B38/004, B32895"
   ]
  }
 ],
 "metadata": {
  "kernelspec": {
   "display_name": "Python 3 (ipykernel)",
   "language": "python",
   "name": "python3"
  },
  "language_info": {
   "codemirror_mode": {
    "name": "ipython",
    "version": 3
   },
   "file_extension": ".py",
   "mimetype": "text/x-python",
   "name": "python",
   "nbconvert_exporter": "python",
   "pygments_lexer": "ipython3",
   "version": "3.12.7"
  }
 },
 "nbformat": 4,
 "nbformat_minor": 5
}
